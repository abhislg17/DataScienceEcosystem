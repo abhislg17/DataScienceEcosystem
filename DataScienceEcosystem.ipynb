{
 "cells": [
  {
   "cell_type": "markdown",
   "id": "c2adc42f-e203-44b0-a023-457b2341f239",
   "metadata": {},
   "source": [
    " # Data Science Tools and Ecosystem"
   ]
  },
  {
   "cell_type": "markdown",
   "id": "260051ae-a773-47e3-8e88-282e3de032e1",
   "metadata": {},
   "source": [
    "### Some of the popular languages that Data Scientists use are:\n",
    "         1. Python Programming\n",
    "         2. R Programming\n",
    "         3. Java Programming"
   ]
  },
  {
   "cell_type": "markdown",
   "id": "6b38ed2f-45ea-4b01-83b0-5080df34b7a4",
   "metadata": {},
   "source": [
    "In this notebook, Data Science Tools and Ecosystem are summarized."
   ]
  },
  {
   "cell_type": "markdown",
   "id": "38b7ceaa-0c7d-4051-835d-9416cd456343",
   "metadata": {},
   "source": [
    "### Objectives\n",
    "- Arithmetic Expressions\n",
    "- Data Science Libraries\n",
    "- Data Science Evironment Open Source Tools"
   ]
  },
  {
   "cell_type": "markdown",
   "id": "9149f0f9-70b8-4399-8853-622f711fa4c8",
   "metadata": {},
   "source": [
    "### Some of the commonly used libraries used by Data Scientists include:\n",
    "          1. NumPy\n",
    "          2. Pandas\n",
    "          3. Matplotlib "
   ]
  },
  {
   "cell_type": "markdown",
   "id": "05ff52cd-7a66-45a1-903e-bc75d0499185",
   "metadata": {},
   "source": [
    "|Data Science Tools|\n",
    "|-------------------|\n",
    "|Apache Spark|\n",
    "|Apache Hadoop|\n",
    "|TensorFlow|"
   ]
  },
  {
   "cell_type": "markdown",
   "id": "43a8a6fd-0787-424f-a81e-7083163dca75",
   "metadata": {},
   "source": [
    "## Arithmetic expression examples"
   ]
  },
  {
   "cell_type": "markdown",
   "id": "a39446e1-27fa-433c-9fdd-2f38a53c072f",
   "metadata": {},
   "source": [
    "### Below are a few examples of evaluating arithmetic expressions in Python\n",
    "#### Addition\n",
    "print(9+10)\n",
    "#### Subtraction\n",
    "print(18-9)\n",
    "#### Multiplication\n",
    "print(16*9)\n",
    "#### Division\n",
    "print(16/4)"
   ]
  },
  {
   "cell_type": "code",
   "execution_count": 5,
   "id": "202677ac-5c6e-4ebe-9efc-a3a656b7f700",
   "metadata": {},
   "outputs": [
    {
     "name": "stdout",
     "output_type": "stream",
     "text": [
      "17\n"
     ]
    }
   ],
   "source": [
    "# This a simple arithmetic expression to mutiply then add integers\n",
    "print((3*4)+5)"
   ]
  },
  {
   "cell_type": "code",
   "execution_count": 7,
   "id": "a1c41c08-c061-4719-b2e3-cbd22dbc592d",
   "metadata": {},
   "outputs": [
    {
     "name": "stdout",
     "output_type": "stream",
     "text": [
      "3.3333333333333335\n"
     ]
    }
   ],
   "source": [
    "#This will convert 200 minutes to hours by dividing by 60\n",
    "print(200/60)"
   ]
  },
  {
   "cell_type": "markdown",
   "id": "0afdfdbd-6654-4351-adb6-837c3e1ab129",
   "metadata": {},
   "source": [
    "### Author\n",
    "Abhishek Dutta"
   ]
  },
  {
   "cell_type": "code",
   "execution_count": null,
   "id": "16c4471c-4933-4d5f-93a7-298f4d58e166",
   "metadata": {},
   "outputs": [],
   "source": []
  }
 ],
 "metadata": {
  "kernelspec": {
   "display_name": "Python 3 (ipykernel)",
   "language": "python",
   "name": "python3"
  },
  "language_info": {
   "codemirror_mode": {
    "name": "ipython",
    "version": 3
   },
   "file_extension": ".py",
   "mimetype": "text/x-python",
   "name": "python",
   "nbconvert_exporter": "python",
   "pygments_lexer": "ipython3",
   "version": "3.12.8"
  }
 },
 "nbformat": 4,
 "nbformat_minor": 5
}
